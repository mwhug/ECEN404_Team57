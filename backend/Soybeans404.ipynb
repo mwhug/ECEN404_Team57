{
  "nbformat": 4,
  "nbformat_minor": 0,
  "metadata": {
    "colab": {
      "provenance": []
    },
    "kernelspec": {
      "name": "python3",
      "display_name": "Python 3"
    },
    "language_info": {
      "name": "python"
    }
  },
  "cells": [
    {
      "cell_type": "code",
      "execution_count": 9,
      "metadata": {
        "id": "7-FKnFWEKCr9"
      },
      "outputs": [],
      "source": [
        "import tensorflow as tf\n",
        "import numpy as np\n",
        "import matplotlib.pyplot as plt\n",
        "import os\n",
        "import random\n",
        "\n",
        "from google.colab import drive\n",
        "from tensorflow import keras\n",
        "from keras import models, layers, datasets"
      ]
    },
    {
      "cell_type": "code",
      "source": [
        "#mount google drive so we can import dataset\n",
        "drive.mount('/content/drive')"
      ],
      "metadata": {
        "colab": {
          "base_uri": "https://localhost:8080/"
        },
        "id": "Jk3wFd4HKO4b",
        "outputId": "3b288051-3573-42a9-f070-0eb90af1d61f"
      },
      "execution_count": 10,
      "outputs": [
        {
          "output_type": "stream",
          "name": "stdout",
          "text": [
            "Drive already mounted at /content/drive; to attempt to forcibly remount, call drive.mount(\"/content/drive\", force_remount=True).\n"
          ]
        }
      ]
    },
    {
      "cell_type": "code",
      "source": [
        "day_list = [9, 10, 11, 12, 13, 14, 15, 16, 17, 18, 19, 20, 21, 22, 23, 24, 25, 26, 27, 28]\n",
        "imgarray = [] #training images\n",
        "label_array = [] #training labels"
      ],
      "metadata": {
        "id": "NfU5qchZLs_t"
      },
      "execution_count": 11,
      "outputs": []
    },
    {
      "cell_type": "code",
      "source": [
        "#import dataset, create paths, and convert/store images to arrays\n",
        "for i in day_list:\n",
        "  imgday = '/content/drive/Shareddrives/Soybean hydroponics/IMAGE ANALYSIS/annotated_images/Day ' + str(i)\n",
        "  #imgday: string of path with image's day name\n",
        "  #first part of that is the path in my drive to the dataset desired. The annotated images are sorted/stored into the days in day_list\n",
        "\n",
        "  #there are a maximum of 33 images/soybean plants for each day. The following for loop accounts for this and creates paths for every image in the dataset. \n",
        "  #there are a couple days toward the end of the growth cycle that are not included in our dataset, AND the number of images per day varies. \n",
        "  #So we verify a path exists in the Drive before trying to use it\n",
        "  for j in range(35):\n",
        "    fullimgname = imgday + '/Day ' + str(i) + '-' + str(j) + '.jpg'\n",
        "    #fullimgname: string of image's full day name\n",
        "    ExistOrNot = os.path.exists(fullimgname)\n",
        "    if ExistOrNot:\n",
        "      print(\"fullimgname: \", fullimgname)\n",
        "      #load image\n",
        "      #convert image into array, and add this to the overall giant array that stores all of the images in their array format.\n",
        "      imgarray.append(tf.keras.preprocessing.image.img_to_array(tf.keras.utils.load_img(fullimgname, target_size=(256, 256))))\n",
        "\n",
        "      label_array.append(i)"
      ],
      "metadata": {
        "id": "UVRVzixOLU8I",
        "colab": {
          "base_uri": "https://localhost:8080/"
        },
        "outputId": "d32f9789-af62-498f-ab02-d6c9620da55d"
      },
      "execution_count": 12,
      "outputs": [
        {
          "output_type": "stream",
          "name": "stdout",
          "text": [
            "fullimgname:  /content/drive/Shareddrives/Soybean hydroponics/IMAGE ANALYSIS/annotated_images/Day 9/Day 9-1.jpg\n",
            "fullimgname:  /content/drive/Shareddrives/Soybean hydroponics/IMAGE ANALYSIS/annotated_images/Day 9/Day 9-2.jpg\n",
            "fullimgname:  /content/drive/Shareddrives/Soybean hydroponics/IMAGE ANALYSIS/annotated_images/Day 9/Day 9-3.jpg\n",
            "fullimgname:  /content/drive/Shareddrives/Soybean hydroponics/IMAGE ANALYSIS/annotated_images/Day 9/Day 9-4.jpg\n",
            "fullimgname:  /content/drive/Shareddrives/Soybean hydroponics/IMAGE ANALYSIS/annotated_images/Day 9/Day 9-5.jpg\n",
            "fullimgname:  /content/drive/Shareddrives/Soybean hydroponics/IMAGE ANALYSIS/annotated_images/Day 9/Day 9-6.jpg\n",
            "fullimgname:  /content/drive/Shareddrives/Soybean hydroponics/IMAGE ANALYSIS/annotated_images/Day 9/Day 9-7.jpg\n",
            "fullimgname:  /content/drive/Shareddrives/Soybean hydroponics/IMAGE ANALYSIS/annotated_images/Day 9/Day 9-8.jpg\n",
            "fullimgname:  /content/drive/Shareddrives/Soybean hydroponics/IMAGE ANALYSIS/annotated_images/Day 9/Day 9-9.jpg\n",
            "fullimgname:  /content/drive/Shareddrives/Soybean hydroponics/IMAGE ANALYSIS/annotated_images/Day 9/Day 9-10.jpg\n",
            "fullimgname:  /content/drive/Shareddrives/Soybean hydroponics/IMAGE ANALYSIS/annotated_images/Day 9/Day 9-11.jpg\n",
            "fullimgname:  /content/drive/Shareddrives/Soybean hydroponics/IMAGE ANALYSIS/annotated_images/Day 10/Day 10-1.jpg\n",
            "fullimgname:  /content/drive/Shareddrives/Soybean hydroponics/IMAGE ANALYSIS/annotated_images/Day 10/Day 10-2.jpg\n",
            "fullimgname:  /content/drive/Shareddrives/Soybean hydroponics/IMAGE ANALYSIS/annotated_images/Day 10/Day 10-3.jpg\n",
            "fullimgname:  /content/drive/Shareddrives/Soybean hydroponics/IMAGE ANALYSIS/annotated_images/Day 10/Day 10-4.jpg\n",
            "fullimgname:  /content/drive/Shareddrives/Soybean hydroponics/IMAGE ANALYSIS/annotated_images/Day 10/Day 10-5.jpg\n",
            "fullimgname:  /content/drive/Shareddrives/Soybean hydroponics/IMAGE ANALYSIS/annotated_images/Day 10/Day 10-6.jpg\n",
            "fullimgname:  /content/drive/Shareddrives/Soybean hydroponics/IMAGE ANALYSIS/annotated_images/Day 10/Day 10-7.jpg\n",
            "fullimgname:  /content/drive/Shareddrives/Soybean hydroponics/IMAGE ANALYSIS/annotated_images/Day 10/Day 10-8.jpg\n",
            "fullimgname:  /content/drive/Shareddrives/Soybean hydroponics/IMAGE ANALYSIS/annotated_images/Day 10/Day 10-9.jpg\n",
            "fullimgname:  /content/drive/Shareddrives/Soybean hydroponics/IMAGE ANALYSIS/annotated_images/Day 10/Day 10-10.jpg\n",
            "fullimgname:  /content/drive/Shareddrives/Soybean hydroponics/IMAGE ANALYSIS/annotated_images/Day 10/Day 10-11.jpg\n",
            "fullimgname:  /content/drive/Shareddrives/Soybean hydroponics/IMAGE ANALYSIS/annotated_images/Day 10/Day 10-12.jpg\n",
            "fullimgname:  /content/drive/Shareddrives/Soybean hydroponics/IMAGE ANALYSIS/annotated_images/Day 10/Day 10-13.jpg\n",
            "fullimgname:  /content/drive/Shareddrives/Soybean hydroponics/IMAGE ANALYSIS/annotated_images/Day 10/Day 10-14.jpg\n",
            "fullimgname:  /content/drive/Shareddrives/Soybean hydroponics/IMAGE ANALYSIS/annotated_images/Day 10/Day 10-15.jpg\n",
            "fullimgname:  /content/drive/Shareddrives/Soybean hydroponics/IMAGE ANALYSIS/annotated_images/Day 10/Day 10-16.jpg\n",
            "fullimgname:  /content/drive/Shareddrives/Soybean hydroponics/IMAGE ANALYSIS/annotated_images/Day 10/Day 10-17.jpg\n",
            "fullimgname:  /content/drive/Shareddrives/Soybean hydroponics/IMAGE ANALYSIS/annotated_images/Day 10/Day 10-18.jpg\n",
            "fullimgname:  /content/drive/Shareddrives/Soybean hydroponics/IMAGE ANALYSIS/annotated_images/Day 10/Day 10-19.jpg\n",
            "fullimgname:  /content/drive/Shareddrives/Soybean hydroponics/IMAGE ANALYSIS/annotated_images/Day 10/Day 10-20.jpg\n",
            "fullimgname:  /content/drive/Shareddrives/Soybean hydroponics/IMAGE ANALYSIS/annotated_images/Day 10/Day 10-21.jpg\n",
            "fullimgname:  /content/drive/Shareddrives/Soybean hydroponics/IMAGE ANALYSIS/annotated_images/Day 10/Day 10-22.jpg\n",
            "fullimgname:  /content/drive/Shareddrives/Soybean hydroponics/IMAGE ANALYSIS/annotated_images/Day 10/Day 10-23.jpg\n",
            "fullimgname:  /content/drive/Shareddrives/Soybean hydroponics/IMAGE ANALYSIS/annotated_images/Day 10/Day 10-24.jpg\n",
            "fullimgname:  /content/drive/Shareddrives/Soybean hydroponics/IMAGE ANALYSIS/annotated_images/Day 10/Day 10-25.jpg\n",
            "fullimgname:  /content/drive/Shareddrives/Soybean hydroponics/IMAGE ANALYSIS/annotated_images/Day 10/Day 10-26.jpg\n",
            "fullimgname:  /content/drive/Shareddrives/Soybean hydroponics/IMAGE ANALYSIS/annotated_images/Day 10/Day 10-27.jpg\n",
            "fullimgname:  /content/drive/Shareddrives/Soybean hydroponics/IMAGE ANALYSIS/annotated_images/Day 10/Day 10-28.jpg\n",
            "fullimgname:  /content/drive/Shareddrives/Soybean hydroponics/IMAGE ANALYSIS/annotated_images/Day 11/Day 11-1.jpg\n",
            "fullimgname:  /content/drive/Shareddrives/Soybean hydroponics/IMAGE ANALYSIS/annotated_images/Day 11/Day 11-2.jpg\n",
            "fullimgname:  /content/drive/Shareddrives/Soybean hydroponics/IMAGE ANALYSIS/annotated_images/Day 11/Day 11-3.jpg\n",
            "fullimgname:  /content/drive/Shareddrives/Soybean hydroponics/IMAGE ANALYSIS/annotated_images/Day 11/Day 11-4.jpg\n",
            "fullimgname:  /content/drive/Shareddrives/Soybean hydroponics/IMAGE ANALYSIS/annotated_images/Day 11/Day 11-5.jpg\n",
            "fullimgname:  /content/drive/Shareddrives/Soybean hydroponics/IMAGE ANALYSIS/annotated_images/Day 11/Day 11-6.jpg\n",
            "fullimgname:  /content/drive/Shareddrives/Soybean hydroponics/IMAGE ANALYSIS/annotated_images/Day 11/Day 11-7.jpg\n",
            "fullimgname:  /content/drive/Shareddrives/Soybean hydroponics/IMAGE ANALYSIS/annotated_images/Day 11/Day 11-8.jpg\n",
            "fullimgname:  /content/drive/Shareddrives/Soybean hydroponics/IMAGE ANALYSIS/annotated_images/Day 11/Day 11-9.jpg\n",
            "fullimgname:  /content/drive/Shareddrives/Soybean hydroponics/IMAGE ANALYSIS/annotated_images/Day 11/Day 11-10.jpg\n",
            "fullimgname:  /content/drive/Shareddrives/Soybean hydroponics/IMAGE ANALYSIS/annotated_images/Day 11/Day 11-11.jpg\n",
            "fullimgname:  /content/drive/Shareddrives/Soybean hydroponics/IMAGE ANALYSIS/annotated_images/Day 11/Day 11-12.jpg\n",
            "fullimgname:  /content/drive/Shareddrives/Soybean hydroponics/IMAGE ANALYSIS/annotated_images/Day 11/Day 11-13.jpg\n",
            "fullimgname:  /content/drive/Shareddrives/Soybean hydroponics/IMAGE ANALYSIS/annotated_images/Day 11/Day 11-14.jpg\n",
            "fullimgname:  /content/drive/Shareddrives/Soybean hydroponics/IMAGE ANALYSIS/annotated_images/Day 11/Day 11-15.jpg\n",
            "fullimgname:  /content/drive/Shareddrives/Soybean hydroponics/IMAGE ANALYSIS/annotated_images/Day 11/Day 11-16.jpg\n",
            "fullimgname:  /content/drive/Shareddrives/Soybean hydroponics/IMAGE ANALYSIS/annotated_images/Day 11/Day 11-17.jpg\n",
            "fullimgname:  /content/drive/Shareddrives/Soybean hydroponics/IMAGE ANALYSIS/annotated_images/Day 11/Day 11-18.jpg\n",
            "fullimgname:  /content/drive/Shareddrives/Soybean hydroponics/IMAGE ANALYSIS/annotated_images/Day 11/Day 11-19.jpg\n",
            "fullimgname:  /content/drive/Shareddrives/Soybean hydroponics/IMAGE ANALYSIS/annotated_images/Day 11/Day 11-20.jpg\n",
            "fullimgname:  /content/drive/Shareddrives/Soybean hydroponics/IMAGE ANALYSIS/annotated_images/Day 11/Day 11-21.jpg\n",
            "fullimgname:  /content/drive/Shareddrives/Soybean hydroponics/IMAGE ANALYSIS/annotated_images/Day 11/Day 11-22.jpg\n",
            "fullimgname:  /content/drive/Shareddrives/Soybean hydroponics/IMAGE ANALYSIS/annotated_images/Day 11/Day 11-23.jpg\n",
            "fullimgname:  /content/drive/Shareddrives/Soybean hydroponics/IMAGE ANALYSIS/annotated_images/Day 11/Day 11-24.jpg\n",
            "fullimgname:  /content/drive/Shareddrives/Soybean hydroponics/IMAGE ANALYSIS/annotated_images/Day 11/Day 11-25.jpg\n",
            "fullimgname:  /content/drive/Shareddrives/Soybean hydroponics/IMAGE ANALYSIS/annotated_images/Day 11/Day 11-26.jpg\n",
            "fullimgname:  /content/drive/Shareddrives/Soybean hydroponics/IMAGE ANALYSIS/annotated_images/Day 11/Day 11-27.jpg\n",
            "fullimgname:  /content/drive/Shareddrives/Soybean hydroponics/IMAGE ANALYSIS/annotated_images/Day 11/Day 11-28.jpg\n",
            "fullimgname:  /content/drive/Shareddrives/Soybean hydroponics/IMAGE ANALYSIS/annotated_images/Day 11/Day 11-29.jpg\n",
            "fullimgname:  /content/drive/Shareddrives/Soybean hydroponics/IMAGE ANALYSIS/annotated_images/Day 11/Day 11-30.jpg\n",
            "fullimgname:  /content/drive/Shareddrives/Soybean hydroponics/IMAGE ANALYSIS/annotated_images/Day 11/Day 11-31.jpg\n",
            "fullimgname:  /content/drive/Shareddrives/Soybean hydroponics/IMAGE ANALYSIS/annotated_images/Day 11/Day 11-32.jpg\n",
            "fullimgname:  /content/drive/Shareddrives/Soybean hydroponics/IMAGE ANALYSIS/annotated_images/Day 11/Day 11-33.jpg\n",
            "fullimgname:  /content/drive/Shareddrives/Soybean hydroponics/IMAGE ANALYSIS/annotated_images/Day 12/Day 12-1.jpg\n",
            "fullimgname:  /content/drive/Shareddrives/Soybean hydroponics/IMAGE ANALYSIS/annotated_images/Day 12/Day 12-2.jpg\n",
            "fullimgname:  /content/drive/Shareddrives/Soybean hydroponics/IMAGE ANALYSIS/annotated_images/Day 12/Day 12-3.jpg\n",
            "fullimgname:  /content/drive/Shareddrives/Soybean hydroponics/IMAGE ANALYSIS/annotated_images/Day 12/Day 12-4.jpg\n",
            "fullimgname:  /content/drive/Shareddrives/Soybean hydroponics/IMAGE ANALYSIS/annotated_images/Day 12/Day 12-5.jpg\n",
            "fullimgname:  /content/drive/Shareddrives/Soybean hydroponics/IMAGE ANALYSIS/annotated_images/Day 12/Day 12-6.jpg\n",
            "fullimgname:  /content/drive/Shareddrives/Soybean hydroponics/IMAGE ANALYSIS/annotated_images/Day 12/Day 12-7.jpg\n",
            "fullimgname:  /content/drive/Shareddrives/Soybean hydroponics/IMAGE ANALYSIS/annotated_images/Day 12/Day 12-8.jpg\n",
            "fullimgname:  /content/drive/Shareddrives/Soybean hydroponics/IMAGE ANALYSIS/annotated_images/Day 12/Day 12-9.jpg\n",
            "fullimgname:  /content/drive/Shareddrives/Soybean hydroponics/IMAGE ANALYSIS/annotated_images/Day 12/Day 12-10.jpg\n",
            "fullimgname:  /content/drive/Shareddrives/Soybean hydroponics/IMAGE ANALYSIS/annotated_images/Day 12/Day 12-11.jpg\n",
            "fullimgname:  /content/drive/Shareddrives/Soybean hydroponics/IMAGE ANALYSIS/annotated_images/Day 12/Day 12-12.jpg\n",
            "fullimgname:  /content/drive/Shareddrives/Soybean hydroponics/IMAGE ANALYSIS/annotated_images/Day 12/Day 12-13.jpg\n",
            "fullimgname:  /content/drive/Shareddrives/Soybean hydroponics/IMAGE ANALYSIS/annotated_images/Day 12/Day 12-14.jpg\n",
            "fullimgname:  /content/drive/Shareddrives/Soybean hydroponics/IMAGE ANALYSIS/annotated_images/Day 12/Day 12-15.jpg\n",
            "fullimgname:  /content/drive/Shareddrives/Soybean hydroponics/IMAGE ANALYSIS/annotated_images/Day 12/Day 12-16.jpg\n",
            "fullimgname:  /content/drive/Shareddrives/Soybean hydroponics/IMAGE ANALYSIS/annotated_images/Day 12/Day 12-17.jpg\n",
            "fullimgname:  /content/drive/Shareddrives/Soybean hydroponics/IMAGE ANALYSIS/annotated_images/Day 12/Day 12-18.jpg\n",
            "fullimgname:  /content/drive/Shareddrives/Soybean hydroponics/IMAGE ANALYSIS/annotated_images/Day 12/Day 12-19.jpg\n",
            "fullimgname:  /content/drive/Shareddrives/Soybean hydroponics/IMAGE ANALYSIS/annotated_images/Day 12/Day 12-20.jpg\n",
            "fullimgname:  /content/drive/Shareddrives/Soybean hydroponics/IMAGE ANALYSIS/annotated_images/Day 12/Day 12-21.jpg\n",
            "fullimgname:  /content/drive/Shareddrives/Soybean hydroponics/IMAGE ANALYSIS/annotated_images/Day 12/Day 12-22.jpg\n",
            "fullimgname:  /content/drive/Shareddrives/Soybean hydroponics/IMAGE ANALYSIS/annotated_images/Day 12/Day 12-23.jpg\n",
            "fullimgname:  /content/drive/Shareddrives/Soybean hydroponics/IMAGE ANALYSIS/annotated_images/Day 12/Day 12-24.jpg\n",
            "fullimgname:  /content/drive/Shareddrives/Soybean hydroponics/IMAGE ANALYSIS/annotated_images/Day 12/Day 12-25.jpg\n",
            "fullimgname:  /content/drive/Shareddrives/Soybean hydroponics/IMAGE ANALYSIS/annotated_images/Day 12/Day 12-26.jpg\n",
            "fullimgname:  /content/drive/Shareddrives/Soybean hydroponics/IMAGE ANALYSIS/annotated_images/Day 12/Day 12-27.jpg\n",
            "fullimgname:  /content/drive/Shareddrives/Soybean hydroponics/IMAGE ANALYSIS/annotated_images/Day 12/Day 12-28.jpg\n",
            "fullimgname:  /content/drive/Shareddrives/Soybean hydroponics/IMAGE ANALYSIS/annotated_images/Day 13/Day 13-1.jpg\n",
            "fullimgname:  /content/drive/Shareddrives/Soybean hydroponics/IMAGE ANALYSIS/annotated_images/Day 13/Day 13-2.jpg\n",
            "fullimgname:  /content/drive/Shareddrives/Soybean hydroponics/IMAGE ANALYSIS/annotated_images/Day 13/Day 13-3.jpg\n",
            "fullimgname:  /content/drive/Shareddrives/Soybean hydroponics/IMAGE ANALYSIS/annotated_images/Day 13/Day 13-4.jpg\n",
            "fullimgname:  /content/drive/Shareddrives/Soybean hydroponics/IMAGE ANALYSIS/annotated_images/Day 13/Day 13-5.jpg\n",
            "fullimgname:  /content/drive/Shareddrives/Soybean hydroponics/IMAGE ANALYSIS/annotated_images/Day 13/Day 13-6.jpg\n",
            "fullimgname:  /content/drive/Shareddrives/Soybean hydroponics/IMAGE ANALYSIS/annotated_images/Day 13/Day 13-7.jpg\n",
            "fullimgname:  /content/drive/Shareddrives/Soybean hydroponics/IMAGE ANALYSIS/annotated_images/Day 13/Day 13-8.jpg\n",
            "fullimgname:  /content/drive/Shareddrives/Soybean hydroponics/IMAGE ANALYSIS/annotated_images/Day 13/Day 13-9.jpg\n",
            "fullimgname:  /content/drive/Shareddrives/Soybean hydroponics/IMAGE ANALYSIS/annotated_images/Day 13/Day 13-10.jpg\n",
            "fullimgname:  /content/drive/Shareddrives/Soybean hydroponics/IMAGE ANALYSIS/annotated_images/Day 13/Day 13-11.jpg\n",
            "fullimgname:  /content/drive/Shareddrives/Soybean hydroponics/IMAGE ANALYSIS/annotated_images/Day 13/Day 13-12.jpg\n",
            "fullimgname:  /content/drive/Shareddrives/Soybean hydroponics/IMAGE ANALYSIS/annotated_images/Day 13/Day 13-13.jpg\n",
            "fullimgname:  /content/drive/Shareddrives/Soybean hydroponics/IMAGE ANALYSIS/annotated_images/Day 13/Day 13-14.jpg\n",
            "fullimgname:  /content/drive/Shareddrives/Soybean hydroponics/IMAGE ANALYSIS/annotated_images/Day 13/Day 13-15.jpg\n",
            "fullimgname:  /content/drive/Shareddrives/Soybean hydroponics/IMAGE ANALYSIS/annotated_images/Day 13/Day 13-16.jpg\n",
            "fullimgname:  /content/drive/Shareddrives/Soybean hydroponics/IMAGE ANALYSIS/annotated_images/Day 13/Day 13-17.jpg\n",
            "fullimgname:  /content/drive/Shareddrives/Soybean hydroponics/IMAGE ANALYSIS/annotated_images/Day 13/Day 13-18.jpg\n",
            "fullimgname:  /content/drive/Shareddrives/Soybean hydroponics/IMAGE ANALYSIS/annotated_images/Day 13/Day 13-19.jpg\n",
            "fullimgname:  /content/drive/Shareddrives/Soybean hydroponics/IMAGE ANALYSIS/annotated_images/Day 13/Day 13-20.jpg\n",
            "fullimgname:  /content/drive/Shareddrives/Soybean hydroponics/IMAGE ANALYSIS/annotated_images/Day 13/Day 13-21.jpg\n",
            "fullimgname:  /content/drive/Shareddrives/Soybean hydroponics/IMAGE ANALYSIS/annotated_images/Day 13/Day 13-22.jpg\n",
            "fullimgname:  /content/drive/Shareddrives/Soybean hydroponics/IMAGE ANALYSIS/annotated_images/Day 13/Day 13-23.jpg\n",
            "fullimgname:  /content/drive/Shareddrives/Soybean hydroponics/IMAGE ANALYSIS/annotated_images/Day 14/Day 14-1.jpg\n",
            "fullimgname:  /content/drive/Shareddrives/Soybean hydroponics/IMAGE ANALYSIS/annotated_images/Day 14/Day 14-2.jpg\n",
            "fullimgname:  /content/drive/Shareddrives/Soybean hydroponics/IMAGE ANALYSIS/annotated_images/Day 14/Day 14-3.jpg\n",
            "fullimgname:  /content/drive/Shareddrives/Soybean hydroponics/IMAGE ANALYSIS/annotated_images/Day 14/Day 14-4.jpg\n",
            "fullimgname:  /content/drive/Shareddrives/Soybean hydroponics/IMAGE ANALYSIS/annotated_images/Day 14/Day 14-5.jpg\n",
            "fullimgname:  /content/drive/Shareddrives/Soybean hydroponics/IMAGE ANALYSIS/annotated_images/Day 14/Day 14-6.jpg\n",
            "fullimgname:  /content/drive/Shareddrives/Soybean hydroponics/IMAGE ANALYSIS/annotated_images/Day 14/Day 14-7.jpg\n",
            "fullimgname:  /content/drive/Shareddrives/Soybean hydroponics/IMAGE ANALYSIS/annotated_images/Day 14/Day 14-8.jpg\n",
            "fullimgname:  /content/drive/Shareddrives/Soybean hydroponics/IMAGE ANALYSIS/annotated_images/Day 14/Day 14-9.jpg\n",
            "fullimgname:  /content/drive/Shareddrives/Soybean hydroponics/IMAGE ANALYSIS/annotated_images/Day 14/Day 14-10.jpg\n",
            "fullimgname:  /content/drive/Shareddrives/Soybean hydroponics/IMAGE ANALYSIS/annotated_images/Day 14/Day 14-11.jpg\n",
            "fullimgname:  /content/drive/Shareddrives/Soybean hydroponics/IMAGE ANALYSIS/annotated_images/Day 14/Day 14-12.jpg\n",
            "fullimgname:  /content/drive/Shareddrives/Soybean hydroponics/IMAGE ANALYSIS/annotated_images/Day 14/Day 14-13.jpg\n",
            "fullimgname:  /content/drive/Shareddrives/Soybean hydroponics/IMAGE ANALYSIS/annotated_images/Day 14/Day 14-14.jpg\n",
            "fullimgname:  /content/drive/Shareddrives/Soybean hydroponics/IMAGE ANALYSIS/annotated_images/Day 14/Day 14-15.jpg\n",
            "fullimgname:  /content/drive/Shareddrives/Soybean hydroponics/IMAGE ANALYSIS/annotated_images/Day 14/Day 14-16.jpg\n",
            "fullimgname:  /content/drive/Shareddrives/Soybean hydroponics/IMAGE ANALYSIS/annotated_images/Day 14/Day 14-17.jpg\n",
            "fullimgname:  /content/drive/Shareddrives/Soybean hydroponics/IMAGE ANALYSIS/annotated_images/Day 14/Day 14-18.jpg\n",
            "fullimgname:  /content/drive/Shareddrives/Soybean hydroponics/IMAGE ANALYSIS/annotated_images/Day 14/Day 14-19.jpg\n",
            "fullimgname:  /content/drive/Shareddrives/Soybean hydroponics/IMAGE ANALYSIS/annotated_images/Day 14/Day 14-20.jpg\n",
            "fullimgname:  /content/drive/Shareddrives/Soybean hydroponics/IMAGE ANALYSIS/annotated_images/Day 14/Day 14-21.jpg\n",
            "fullimgname:  /content/drive/Shareddrives/Soybean hydroponics/IMAGE ANALYSIS/annotated_images/Day 14/Day 14-22.jpg\n",
            "fullimgname:  /content/drive/Shareddrives/Soybean hydroponics/IMAGE ANALYSIS/annotated_images/Day 15/Day 15-1.jpg\n",
            "fullimgname:  /content/drive/Shareddrives/Soybean hydroponics/IMAGE ANALYSIS/annotated_images/Day 15/Day 15-2.jpg\n",
            "fullimgname:  /content/drive/Shareddrives/Soybean hydroponics/IMAGE ANALYSIS/annotated_images/Day 15/Day 15-3.jpg\n",
            "fullimgname:  /content/drive/Shareddrives/Soybean hydroponics/IMAGE ANALYSIS/annotated_images/Day 15/Day 15-4.jpg\n",
            "fullimgname:  /content/drive/Shareddrives/Soybean hydroponics/IMAGE ANALYSIS/annotated_images/Day 15/Day 15-5.jpg\n",
            "fullimgname:  /content/drive/Shareddrives/Soybean hydroponics/IMAGE ANALYSIS/annotated_images/Day 15/Day 15-6.jpg\n",
            "fullimgname:  /content/drive/Shareddrives/Soybean hydroponics/IMAGE ANALYSIS/annotated_images/Day 15/Day 15-7.jpg\n",
            "fullimgname:  /content/drive/Shareddrives/Soybean hydroponics/IMAGE ANALYSIS/annotated_images/Day 15/Day 15-8.jpg\n",
            "fullimgname:  /content/drive/Shareddrives/Soybean hydroponics/IMAGE ANALYSIS/annotated_images/Day 15/Day 15-9.jpg\n",
            "fullimgname:  /content/drive/Shareddrives/Soybean hydroponics/IMAGE ANALYSIS/annotated_images/Day 15/Day 15-10.jpg\n",
            "fullimgname:  /content/drive/Shareddrives/Soybean hydroponics/IMAGE ANALYSIS/annotated_images/Day 15/Day 15-11.jpg\n",
            "fullimgname:  /content/drive/Shareddrives/Soybean hydroponics/IMAGE ANALYSIS/annotated_images/Day 15/Day 15-12.jpg\n",
            "fullimgname:  /content/drive/Shareddrives/Soybean hydroponics/IMAGE ANALYSIS/annotated_images/Day 15/Day 15-13.jpg\n",
            "fullimgname:  /content/drive/Shareddrives/Soybean hydroponics/IMAGE ANALYSIS/annotated_images/Day 15/Day 15-14.jpg\n",
            "fullimgname:  /content/drive/Shareddrives/Soybean hydroponics/IMAGE ANALYSIS/annotated_images/Day 15/Day 15-15.jpg\n",
            "fullimgname:  /content/drive/Shareddrives/Soybean hydroponics/IMAGE ANALYSIS/annotated_images/Day 15/Day 15-16.jpg\n",
            "fullimgname:  /content/drive/Shareddrives/Soybean hydroponics/IMAGE ANALYSIS/annotated_images/Day 15/Day 15-17.jpg\n",
            "fullimgname:  /content/drive/Shareddrives/Soybean hydroponics/IMAGE ANALYSIS/annotated_images/Day 15/Day 15-18.jpg\n",
            "fullimgname:  /content/drive/Shareddrives/Soybean hydroponics/IMAGE ANALYSIS/annotated_images/Day 15/Day 15-19.jpg\n",
            "fullimgname:  /content/drive/Shareddrives/Soybean hydroponics/IMAGE ANALYSIS/annotated_images/Day 15/Day 15-20.jpg\n",
            "fullimgname:  /content/drive/Shareddrives/Soybean hydroponics/IMAGE ANALYSIS/annotated_images/Day 15/Day 15-21.jpg\n",
            "fullimgname:  /content/drive/Shareddrives/Soybean hydroponics/IMAGE ANALYSIS/annotated_images/Day 15/Day 15-22.jpg\n",
            "fullimgname:  /content/drive/Shareddrives/Soybean hydroponics/IMAGE ANALYSIS/annotated_images/Day 16/Day 16-1.jpg\n",
            "fullimgname:  /content/drive/Shareddrives/Soybean hydroponics/IMAGE ANALYSIS/annotated_images/Day 16/Day 16-2.jpg\n",
            "fullimgname:  /content/drive/Shareddrives/Soybean hydroponics/IMAGE ANALYSIS/annotated_images/Day 16/Day 16-3.jpg\n",
            "fullimgname:  /content/drive/Shareddrives/Soybean hydroponics/IMAGE ANALYSIS/annotated_images/Day 16/Day 16-4.jpg\n",
            "fullimgname:  /content/drive/Shareddrives/Soybean hydroponics/IMAGE ANALYSIS/annotated_images/Day 16/Day 16-5.jpg\n",
            "fullimgname:  /content/drive/Shareddrives/Soybean hydroponics/IMAGE ANALYSIS/annotated_images/Day 16/Day 16-6.jpg\n",
            "fullimgname:  /content/drive/Shareddrives/Soybean hydroponics/IMAGE ANALYSIS/annotated_images/Day 16/Day 16-7.jpg\n",
            "fullimgname:  /content/drive/Shareddrives/Soybean hydroponics/IMAGE ANALYSIS/annotated_images/Day 16/Day 16-8.jpg\n",
            "fullimgname:  /content/drive/Shareddrives/Soybean hydroponics/IMAGE ANALYSIS/annotated_images/Day 16/Day 16-9.jpg\n",
            "fullimgname:  /content/drive/Shareddrives/Soybean hydroponics/IMAGE ANALYSIS/annotated_images/Day 16/Day 16-10.jpg\n",
            "fullimgname:  /content/drive/Shareddrives/Soybean hydroponics/IMAGE ANALYSIS/annotated_images/Day 16/Day 16-11.jpg\n",
            "fullimgname:  /content/drive/Shareddrives/Soybean hydroponics/IMAGE ANALYSIS/annotated_images/Day 16/Day 16-12.jpg\n",
            "fullimgname:  /content/drive/Shareddrives/Soybean hydroponics/IMAGE ANALYSIS/annotated_images/Day 16/Day 16-13.jpg\n",
            "fullimgname:  /content/drive/Shareddrives/Soybean hydroponics/IMAGE ANALYSIS/annotated_images/Day 16/Day 16-14.jpg\n",
            "fullimgname:  /content/drive/Shareddrives/Soybean hydroponics/IMAGE ANALYSIS/annotated_images/Day 16/Day 16-17.jpg\n",
            "fullimgname:  /content/drive/Shareddrives/Soybean hydroponics/IMAGE ANALYSIS/annotated_images/Day 16/Day 16-18.jpg\n",
            "fullimgname:  /content/drive/Shareddrives/Soybean hydroponics/IMAGE ANALYSIS/annotated_images/Day 16/Day 16-19.jpg\n",
            "fullimgname:  /content/drive/Shareddrives/Soybean hydroponics/IMAGE ANALYSIS/annotated_images/Day 16/Day 16-20.jpg\n",
            "fullimgname:  /content/drive/Shareddrives/Soybean hydroponics/IMAGE ANALYSIS/annotated_images/Day 16/Day 16-21.jpg\n",
            "fullimgname:  /content/drive/Shareddrives/Soybean hydroponics/IMAGE ANALYSIS/annotated_images/Day 16/Day 16-22.jpg\n",
            "fullimgname:  /content/drive/Shareddrives/Soybean hydroponics/IMAGE ANALYSIS/annotated_images/Day 16/Day 16-23.jpg\n",
            "fullimgname:  /content/drive/Shareddrives/Soybean hydroponics/IMAGE ANALYSIS/annotated_images/Day 16/Day 16-24.jpg\n",
            "fullimgname:  /content/drive/Shareddrives/Soybean hydroponics/IMAGE ANALYSIS/annotated_images/Day 16/Day 16-25.jpg\n",
            "fullimgname:  /content/drive/Shareddrives/Soybean hydroponics/IMAGE ANALYSIS/annotated_images/Day 17/Day 17-1.jpg\n",
            "fullimgname:  /content/drive/Shareddrives/Soybean hydroponics/IMAGE ANALYSIS/annotated_images/Day 17/Day 17-2.jpg\n",
            "fullimgname:  /content/drive/Shareddrives/Soybean hydroponics/IMAGE ANALYSIS/annotated_images/Day 17/Day 17-3.jpg\n",
            "fullimgname:  /content/drive/Shareddrives/Soybean hydroponics/IMAGE ANALYSIS/annotated_images/Day 17/Day 17-4.jpg\n",
            "fullimgname:  /content/drive/Shareddrives/Soybean hydroponics/IMAGE ANALYSIS/annotated_images/Day 17/Day 17-5.jpg\n",
            "fullimgname:  /content/drive/Shareddrives/Soybean hydroponics/IMAGE ANALYSIS/annotated_images/Day 17/Day 17-6.jpg\n",
            "fullimgname:  /content/drive/Shareddrives/Soybean hydroponics/IMAGE ANALYSIS/annotated_images/Day 17/Day 17-7.jpg\n",
            "fullimgname:  /content/drive/Shareddrives/Soybean hydroponics/IMAGE ANALYSIS/annotated_images/Day 17/Day 17-8.jpg\n",
            "fullimgname:  /content/drive/Shareddrives/Soybean hydroponics/IMAGE ANALYSIS/annotated_images/Day 17/Day 17-9.jpg\n",
            "fullimgname:  /content/drive/Shareddrives/Soybean hydroponics/IMAGE ANALYSIS/annotated_images/Day 17/Day 17-10.jpg\n",
            "fullimgname:  /content/drive/Shareddrives/Soybean hydroponics/IMAGE ANALYSIS/annotated_images/Day 17/Day 17-11.jpg\n",
            "fullimgname:  /content/drive/Shareddrives/Soybean hydroponics/IMAGE ANALYSIS/annotated_images/Day 17/Day 17-12.jpg\n",
            "fullimgname:  /content/drive/Shareddrives/Soybean hydroponics/IMAGE ANALYSIS/annotated_images/Day 17/Day 17-13.jpg\n",
            "fullimgname:  /content/drive/Shareddrives/Soybean hydroponics/IMAGE ANALYSIS/annotated_images/Day 17/Day 17-14.jpg\n",
            "fullimgname:  /content/drive/Shareddrives/Soybean hydroponics/IMAGE ANALYSIS/annotated_images/Day 17/Day 17-15.jpg\n",
            "fullimgname:  /content/drive/Shareddrives/Soybean hydroponics/IMAGE ANALYSIS/annotated_images/Day 17/Day 17-16.jpg\n",
            "fullimgname:  /content/drive/Shareddrives/Soybean hydroponics/IMAGE ANALYSIS/annotated_images/Day 17/Day 17-17.jpg\n",
            "fullimgname:  /content/drive/Shareddrives/Soybean hydroponics/IMAGE ANALYSIS/annotated_images/Day 17/Day 17-18.jpg\n",
            "fullimgname:  /content/drive/Shareddrives/Soybean hydroponics/IMAGE ANALYSIS/annotated_images/Day 17/Day 17-19.jpg\n",
            "fullimgname:  /content/drive/Shareddrives/Soybean hydroponics/IMAGE ANALYSIS/annotated_images/Day 17/Day 17-20.jpg\n",
            "fullimgname:  /content/drive/Shareddrives/Soybean hydroponics/IMAGE ANALYSIS/annotated_images/Day 17/Day 17-21.jpg\n",
            "fullimgname:  /content/drive/Shareddrives/Soybean hydroponics/IMAGE ANALYSIS/annotated_images/Day 18/Day 18-1.jpg\n",
            "fullimgname:  /content/drive/Shareddrives/Soybean hydroponics/IMAGE ANALYSIS/annotated_images/Day 18/Day 18-2.jpg\n",
            "fullimgname:  /content/drive/Shareddrives/Soybean hydroponics/IMAGE ANALYSIS/annotated_images/Day 18/Day 18-3.jpg\n",
            "fullimgname:  /content/drive/Shareddrives/Soybean hydroponics/IMAGE ANALYSIS/annotated_images/Day 18/Day 18-4.jpg\n",
            "fullimgname:  /content/drive/Shareddrives/Soybean hydroponics/IMAGE ANALYSIS/annotated_images/Day 18/Day 18-5.jpg\n",
            "fullimgname:  /content/drive/Shareddrives/Soybean hydroponics/IMAGE ANALYSIS/annotated_images/Day 18/Day 18-6.jpg\n",
            "fullimgname:  /content/drive/Shareddrives/Soybean hydroponics/IMAGE ANALYSIS/annotated_images/Day 18/Day 18-7.jpg\n",
            "fullimgname:  /content/drive/Shareddrives/Soybean hydroponics/IMAGE ANALYSIS/annotated_images/Day 18/Day 18-8.jpg\n",
            "fullimgname:  /content/drive/Shareddrives/Soybean hydroponics/IMAGE ANALYSIS/annotated_images/Day 18/Day 18-9.jpg\n",
            "fullimgname:  /content/drive/Shareddrives/Soybean hydroponics/IMAGE ANALYSIS/annotated_images/Day 18/Day 18-10.jpg\n",
            "fullimgname:  /content/drive/Shareddrives/Soybean hydroponics/IMAGE ANALYSIS/annotated_images/Day 18/Day 18-11.jpg\n",
            "fullimgname:  /content/drive/Shareddrives/Soybean hydroponics/IMAGE ANALYSIS/annotated_images/Day 18/Day 18-12.jpg\n",
            "fullimgname:  /content/drive/Shareddrives/Soybean hydroponics/IMAGE ANALYSIS/annotated_images/Day 18/Day 18-13.jpg\n",
            "fullimgname:  /content/drive/Shareddrives/Soybean hydroponics/IMAGE ANALYSIS/annotated_images/Day 18/Day 18-14.jpg\n",
            "fullimgname:  /content/drive/Shareddrives/Soybean hydroponics/IMAGE ANALYSIS/annotated_images/Day 18/Day 18-15.jpg\n",
            "fullimgname:  /content/drive/Shareddrives/Soybean hydroponics/IMAGE ANALYSIS/annotated_images/Day 18/Day 18-16.jpg\n",
            "fullimgname:  /content/drive/Shareddrives/Soybean hydroponics/IMAGE ANALYSIS/annotated_images/Day 18/Day 18-17.jpg\n",
            "fullimgname:  /content/drive/Shareddrives/Soybean hydroponics/IMAGE ANALYSIS/annotated_images/Day 18/Day 18-18.jpg\n",
            "fullimgname:  /content/drive/Shareddrives/Soybean hydroponics/IMAGE ANALYSIS/annotated_images/Day 18/Day 18-19.jpg\n",
            "fullimgname:  /content/drive/Shareddrives/Soybean hydroponics/IMAGE ANALYSIS/annotated_images/Day 18/Day 18-20.jpg\n",
            "fullimgname:  /content/drive/Shareddrives/Soybean hydroponics/IMAGE ANALYSIS/annotated_images/Day 19/Day 19-1.jpg\n",
            "fullimgname:  /content/drive/Shareddrives/Soybean hydroponics/IMAGE ANALYSIS/annotated_images/Day 19/Day 19-2.jpg\n",
            "fullimgname:  /content/drive/Shareddrives/Soybean hydroponics/IMAGE ANALYSIS/annotated_images/Day 19/Day 19-3.jpg\n",
            "fullimgname:  /content/drive/Shareddrives/Soybean hydroponics/IMAGE ANALYSIS/annotated_images/Day 19/Day 19-4.jpg\n",
            "fullimgname:  /content/drive/Shareddrives/Soybean hydroponics/IMAGE ANALYSIS/annotated_images/Day 19/Day 19-5.jpg\n",
            "fullimgname:  /content/drive/Shareddrives/Soybean hydroponics/IMAGE ANALYSIS/annotated_images/Day 19/Day 19-6.jpg\n",
            "fullimgname:  /content/drive/Shareddrives/Soybean hydroponics/IMAGE ANALYSIS/annotated_images/Day 19/Day 19-7.jpg\n",
            "fullimgname:  /content/drive/Shareddrives/Soybean hydroponics/IMAGE ANALYSIS/annotated_images/Day 19/Day 19-8.jpg\n",
            "fullimgname:  /content/drive/Shareddrives/Soybean hydroponics/IMAGE ANALYSIS/annotated_images/Day 19/Day 19-9.jpg\n",
            "fullimgname:  /content/drive/Shareddrives/Soybean hydroponics/IMAGE ANALYSIS/annotated_images/Day 19/Day 19-10.jpg\n",
            "fullimgname:  /content/drive/Shareddrives/Soybean hydroponics/IMAGE ANALYSIS/annotated_images/Day 19/Day 19-11.jpg\n",
            "fullimgname:  /content/drive/Shareddrives/Soybean hydroponics/IMAGE ANALYSIS/annotated_images/Day 19/Day 19-12.jpg\n",
            "fullimgname:  /content/drive/Shareddrives/Soybean hydroponics/IMAGE ANALYSIS/annotated_images/Day 19/Day 19-13.jpg\n",
            "fullimgname:  /content/drive/Shareddrives/Soybean hydroponics/IMAGE ANALYSIS/annotated_images/Day 19/Day 19-14.jpg\n",
            "fullimgname:  /content/drive/Shareddrives/Soybean hydroponics/IMAGE ANALYSIS/annotated_images/Day 19/Day 19-15.jpg\n",
            "fullimgname:  /content/drive/Shareddrives/Soybean hydroponics/IMAGE ANALYSIS/annotated_images/Day 19/Day 19-16.jpg\n",
            "fullimgname:  /content/drive/Shareddrives/Soybean hydroponics/IMAGE ANALYSIS/annotated_images/Day 19/Day 19-17.jpg\n",
            "fullimgname:  /content/drive/Shareddrives/Soybean hydroponics/IMAGE ANALYSIS/annotated_images/Day 19/Day 19-18.jpg\n",
            "fullimgname:  /content/drive/Shareddrives/Soybean hydroponics/IMAGE ANALYSIS/annotated_images/Day 19/Day 19-19.jpg\n",
            "fullimgname:  /content/drive/Shareddrives/Soybean hydroponics/IMAGE ANALYSIS/annotated_images/Day 19/Day 19-20.jpg\n",
            "fullimgname:  /content/drive/Shareddrives/Soybean hydroponics/IMAGE ANALYSIS/annotated_images/Day 20/Day 20-1.jpg\n",
            "fullimgname:  /content/drive/Shareddrives/Soybean hydroponics/IMAGE ANALYSIS/annotated_images/Day 20/Day 20-2.jpg\n",
            "fullimgname:  /content/drive/Shareddrives/Soybean hydroponics/IMAGE ANALYSIS/annotated_images/Day 20/Day 20-3.jpg\n",
            "fullimgname:  /content/drive/Shareddrives/Soybean hydroponics/IMAGE ANALYSIS/annotated_images/Day 20/Day 20-4.jpg\n",
            "fullimgname:  /content/drive/Shareddrives/Soybean hydroponics/IMAGE ANALYSIS/annotated_images/Day 20/Day 20-5.jpg\n",
            "fullimgname:  /content/drive/Shareddrives/Soybean hydroponics/IMAGE ANALYSIS/annotated_images/Day 20/Day 20-6.jpg\n",
            "fullimgname:  /content/drive/Shareddrives/Soybean hydroponics/IMAGE ANALYSIS/annotated_images/Day 20/Day 20-7.jpg\n",
            "fullimgname:  /content/drive/Shareddrives/Soybean hydroponics/IMAGE ANALYSIS/annotated_images/Day 20/Day 20-8.jpg\n",
            "fullimgname:  /content/drive/Shareddrives/Soybean hydroponics/IMAGE ANALYSIS/annotated_images/Day 20/Day 20-9.jpg\n",
            "fullimgname:  /content/drive/Shareddrives/Soybean hydroponics/IMAGE ANALYSIS/annotated_images/Day 20/Day 20-10.jpg\n",
            "fullimgname:  /content/drive/Shareddrives/Soybean hydroponics/IMAGE ANALYSIS/annotated_images/Day 20/Day 20-11.jpg\n",
            "fullimgname:  /content/drive/Shareddrives/Soybean hydroponics/IMAGE ANALYSIS/annotated_images/Day 20/Day 20-12.jpg\n",
            "fullimgname:  /content/drive/Shareddrives/Soybean hydroponics/IMAGE ANALYSIS/annotated_images/Day 20/Day 20-13.jpg\n",
            "fullimgname:  /content/drive/Shareddrives/Soybean hydroponics/IMAGE ANALYSIS/annotated_images/Day 20/Day 20-14.jpg\n",
            "fullimgname:  /content/drive/Shareddrives/Soybean hydroponics/IMAGE ANALYSIS/annotated_images/Day 20/Day 20-15.jpg\n",
            "fullimgname:  /content/drive/Shareddrives/Soybean hydroponics/IMAGE ANALYSIS/annotated_images/Day 20/Day 20-16.jpg\n",
            "fullimgname:  /content/drive/Shareddrives/Soybean hydroponics/IMAGE ANALYSIS/annotated_images/Day 20/Day 20-17.jpg\n",
            "fullimgname:  /content/drive/Shareddrives/Soybean hydroponics/IMAGE ANALYSIS/annotated_images/Day 20/Day 20-18.jpg\n",
            "fullimgname:  /content/drive/Shareddrives/Soybean hydroponics/IMAGE ANALYSIS/annotated_images/Day 20/Day 20-19.jpg\n",
            "fullimgname:  /content/drive/Shareddrives/Soybean hydroponics/IMAGE ANALYSIS/annotated_images/Day 20/Day 20-20.jpg\n",
            "fullimgname:  /content/drive/Shareddrives/Soybean hydroponics/IMAGE ANALYSIS/annotated_images/Day 22/Day 22-1.jpg\n",
            "fullimgname:  /content/drive/Shareddrives/Soybean hydroponics/IMAGE ANALYSIS/annotated_images/Day 22/Day 22-2.jpg\n",
            "fullimgname:  /content/drive/Shareddrives/Soybean hydroponics/IMAGE ANALYSIS/annotated_images/Day 22/Day 22-3.jpg\n",
            "fullimgname:  /content/drive/Shareddrives/Soybean hydroponics/IMAGE ANALYSIS/annotated_images/Day 22/Day 22-4.jpg\n",
            "fullimgname:  /content/drive/Shareddrives/Soybean hydroponics/IMAGE ANALYSIS/annotated_images/Day 22/Day 22-5.jpg\n",
            "fullimgname:  /content/drive/Shareddrives/Soybean hydroponics/IMAGE ANALYSIS/annotated_images/Day 22/Day 22-6.jpg\n",
            "fullimgname:  /content/drive/Shareddrives/Soybean hydroponics/IMAGE ANALYSIS/annotated_images/Day 22/Day 22-7.jpg\n",
            "fullimgname:  /content/drive/Shareddrives/Soybean hydroponics/IMAGE ANALYSIS/annotated_images/Day 22/Day 22-8.jpg\n",
            "fullimgname:  /content/drive/Shareddrives/Soybean hydroponics/IMAGE ANALYSIS/annotated_images/Day 22/Day 22-9.jpg\n",
            "fullimgname:  /content/drive/Shareddrives/Soybean hydroponics/IMAGE ANALYSIS/annotated_images/Day 22/Day 22-10.jpg\n",
            "fullimgname:  /content/drive/Shareddrives/Soybean hydroponics/IMAGE ANALYSIS/annotated_images/Day 22/Day 22-11.jpg\n",
            "fullimgname:  /content/drive/Shareddrives/Soybean hydroponics/IMAGE ANALYSIS/annotated_images/Day 22/Day 22-12.jpg\n",
            "fullimgname:  /content/drive/Shareddrives/Soybean hydroponics/IMAGE ANALYSIS/annotated_images/Day 22/Day 22-13.jpg\n",
            "fullimgname:  /content/drive/Shareddrives/Soybean hydroponics/IMAGE ANALYSIS/annotated_images/Day 22/Day 22-14.jpg\n",
            "fullimgname:  /content/drive/Shareddrives/Soybean hydroponics/IMAGE ANALYSIS/annotated_images/Day 22/Day 22-15.jpg\n",
            "fullimgname:  /content/drive/Shareddrives/Soybean hydroponics/IMAGE ANALYSIS/annotated_images/Day 22/Day 22-16.jpg\n",
            "fullimgname:  /content/drive/Shareddrives/Soybean hydroponics/IMAGE ANALYSIS/annotated_images/Day 22/Day 22-17.jpg\n",
            "fullimgname:  /content/drive/Shareddrives/Soybean hydroponics/IMAGE ANALYSIS/annotated_images/Day 22/Day 22-18.jpg\n",
            "fullimgname:  /content/drive/Shareddrives/Soybean hydroponics/IMAGE ANALYSIS/annotated_images/Day 26/Day 26-1.jpg\n",
            "fullimgname:  /content/drive/Shareddrives/Soybean hydroponics/IMAGE ANALYSIS/annotated_images/Day 26/Day 26-2.jpg\n",
            "fullimgname:  /content/drive/Shareddrives/Soybean hydroponics/IMAGE ANALYSIS/annotated_images/Day 26/Day 26-3.jpg\n",
            "fullimgname:  /content/drive/Shareddrives/Soybean hydroponics/IMAGE ANALYSIS/annotated_images/Day 26/Day 26-4.jpg\n",
            "fullimgname:  /content/drive/Shareddrives/Soybean hydroponics/IMAGE ANALYSIS/annotated_images/Day 26/Day 26-5.jpg\n",
            "fullimgname:  /content/drive/Shareddrives/Soybean hydroponics/IMAGE ANALYSIS/annotated_images/Day 26/Day 26-6.jpg\n",
            "fullimgname:  /content/drive/Shareddrives/Soybean hydroponics/IMAGE ANALYSIS/annotated_images/Day 26/Day 26-7.jpg\n",
            "fullimgname:  /content/drive/Shareddrives/Soybean hydroponics/IMAGE ANALYSIS/annotated_images/Day 26/Day 26-8.jpg\n",
            "fullimgname:  /content/drive/Shareddrives/Soybean hydroponics/IMAGE ANALYSIS/annotated_images/Day 26/Day 26-9.jpg\n",
            "fullimgname:  /content/drive/Shareddrives/Soybean hydroponics/IMAGE ANALYSIS/annotated_images/Day 26/Day 26-10.jpg\n",
            "fullimgname:  /content/drive/Shareddrives/Soybean hydroponics/IMAGE ANALYSIS/annotated_images/Day 26/Day 26-11.jpg\n",
            "fullimgname:  /content/drive/Shareddrives/Soybean hydroponics/IMAGE ANALYSIS/annotated_images/Day 26/Day 26-12.jpg\n",
            "fullimgname:  /content/drive/Shareddrives/Soybean hydroponics/IMAGE ANALYSIS/annotated_images/Day 26/Day 26-13.jpg\n",
            "fullimgname:  /content/drive/Shareddrives/Soybean hydroponics/IMAGE ANALYSIS/annotated_images/Day 26/Day 26-14.jpg\n",
            "fullimgname:  /content/drive/Shareddrives/Soybean hydroponics/IMAGE ANALYSIS/annotated_images/Day 26/Day 26-15.jpg\n",
            "fullimgname:  /content/drive/Shareddrives/Soybean hydroponics/IMAGE ANALYSIS/annotated_images/Day 26/Day 26-16.jpg\n",
            "fullimgname:  /content/drive/Shareddrives/Soybean hydroponics/IMAGE ANALYSIS/annotated_images/Day 26/Day 26-17.jpg\n",
            "fullimgname:  /content/drive/Shareddrives/Soybean hydroponics/IMAGE ANALYSIS/annotated_images/Day 26/Day 26-18.jpg\n",
            "fullimgname:  /content/drive/Shareddrives/Soybean hydroponics/IMAGE ANALYSIS/annotated_images/Day 26/Day 26-19.jpg\n",
            "fullimgname:  /content/drive/Shareddrives/Soybean hydroponics/IMAGE ANALYSIS/annotated_images/Day 26/Day 26-20.jpg\n",
            "fullimgname:  /content/drive/Shareddrives/Soybean hydroponics/IMAGE ANALYSIS/annotated_images/Day 26/Day 26-21.jpg\n",
            "fullimgname:  /content/drive/Shareddrives/Soybean hydroponics/IMAGE ANALYSIS/annotated_images/Day 28/Day 28-1.jpg\n",
            "fullimgname:  /content/drive/Shareddrives/Soybean hydroponics/IMAGE ANALYSIS/annotated_images/Day 28/Day 28-2.jpg\n",
            "fullimgname:  /content/drive/Shareddrives/Soybean hydroponics/IMAGE ANALYSIS/annotated_images/Day 28/Day 28-3.jpg\n",
            "fullimgname:  /content/drive/Shareddrives/Soybean hydroponics/IMAGE ANALYSIS/annotated_images/Day 28/Day 28-4.jpg\n",
            "fullimgname:  /content/drive/Shareddrives/Soybean hydroponics/IMAGE ANALYSIS/annotated_images/Day 28/Day 28-5.jpg\n",
            "fullimgname:  /content/drive/Shareddrives/Soybean hydroponics/IMAGE ANALYSIS/annotated_images/Day 28/Day 28-6.jpg\n",
            "fullimgname:  /content/drive/Shareddrives/Soybean hydroponics/IMAGE ANALYSIS/annotated_images/Day 28/Day 28-7.jpg\n",
            "fullimgname:  /content/drive/Shareddrives/Soybean hydroponics/IMAGE ANALYSIS/annotated_images/Day 28/Day 28-8.jpg\n",
            "fullimgname:  /content/drive/Shareddrives/Soybean hydroponics/IMAGE ANALYSIS/annotated_images/Day 28/Day 28-9.jpg\n",
            "fullimgname:  /content/drive/Shareddrives/Soybean hydroponics/IMAGE ANALYSIS/annotated_images/Day 28/Day 28-10.jpg\n",
            "fullimgname:  /content/drive/Shareddrives/Soybean hydroponics/IMAGE ANALYSIS/annotated_images/Day 28/Day 28-11.jpg\n",
            "fullimgname:  /content/drive/Shareddrives/Soybean hydroponics/IMAGE ANALYSIS/annotated_images/Day 28/Day 28-12.jpg\n",
            "fullimgname:  /content/drive/Shareddrives/Soybean hydroponics/IMAGE ANALYSIS/annotated_images/Day 28/Day 28-13.jpg\n",
            "fullimgname:  /content/drive/Shareddrives/Soybean hydroponics/IMAGE ANALYSIS/annotated_images/Day 28/Day 28-14.jpg\n",
            "fullimgname:  /content/drive/Shareddrives/Soybean hydroponics/IMAGE ANALYSIS/annotated_images/Day 28/Day 28-15.jpg\n",
            "fullimgname:  /content/drive/Shareddrives/Soybean hydroponics/IMAGE ANALYSIS/annotated_images/Day 28/Day 28-16.jpg\n",
            "fullimgname:  /content/drive/Shareddrives/Soybean hydroponics/IMAGE ANALYSIS/annotated_images/Day 28/Day 28-17.jpg\n",
            "fullimgname:  /content/drive/Shareddrives/Soybean hydroponics/IMAGE ANALYSIS/annotated_images/Day 28/Day 28-18.jpg\n"
          ]
        }
      ]
    },
    {
      "cell_type": "code",
      "source": [
        "len(imgarray)"
      ],
      "metadata": {
        "colab": {
          "base_uri": "https://localhost:8080/"
        },
        "id": "AQ6phxZSTjTk",
        "outputId": "eda03b4e-91d7-4af7-b224-ef1ec1f50c7e"
      },
      "execution_count": 13,
      "outputs": [
        {
          "output_type": "execute_result",
          "data": {
            "text/plain": [
              "328"
            ]
          },
          "metadata": {},
          "execution_count": 13
        }
      ]
    },
    {
      "cell_type": "code",
      "source": [
        "########day_list = [9, 10, 11, 12, 13, 14, 15, 16, 17, 18, 19, 20, 21, 22, 23, 24, 25, 26, 27, 28]\n",
        "#new label_array = [0, 1,   2,  3,  4,  5,  6,  7,  8,  9, 10, 11, 12, 13, 14, 15, 16, 17, 18, 19]\n",
        "\n",
        "for i in range(len(label_array)):\n",
        "  if label_array[i] == 9:\n",
        "    label_array[i] = 0\n",
        "  elif label_array[i] == 10:\n",
        "    label_array[i] = 1\n",
        "  elif label_array[i] == 11:\n",
        "    label_array[i] = 2\n",
        "  elif label_array[i] == 12:\n",
        "    label_array[i] = 3\n",
        "  elif label_array[i] == 13:\n",
        "    label_array[i] = 4\n",
        "  elif label_array[i] == 14:\n",
        "    label_array[i] = 5\n",
        "  elif label_array[i] == 15:\n",
        "    label_array[i] = 6\n",
        "  elif label_array[i] == 16:\n",
        "    label_array[i] = 7\n",
        "  elif label_array[i] == 17:\n",
        "    label_array[i] = 8\n",
        "  elif label_array[i] == 18:\n",
        "    label_array[i] = 9\n",
        "  elif label_array[i] == 19:\n",
        "    label_array[i] = 10\n",
        "  elif label_array[i] == 20:\n",
        "    label_array[i] = 11\n",
        "  elif label_array[i] == 21:\n",
        "    label_array[i] = 12\n",
        "  elif label_array[i] == 22:\n",
        "    label_array[i] = 13\n",
        "  elif label_array[i] == 23:\n",
        "    label_array[i] = 14\n",
        "  elif label_array[i] == 24:\n",
        "    label_array[i] = 15\n",
        "  elif label_array[i] == 25:\n",
        "    label_array[i] = 16\n",
        "  elif label_array[i] == 26:\n",
        "    label_array[i] = 17\n",
        "  elif label_array[i] == 27:\n",
        "    label_array[i] = 18\n",
        "  elif label_array[i] == 28:\n",
        "    label_array[i] = 19"
      ],
      "metadata": {
        "id": "_kG1Ynr24gFq"
      },
      "execution_count": 35,
      "outputs": []
    },
    {
      "cell_type": "code",
      "source": [
        "print(label_array)"
      ],
      "metadata": {
        "colab": {
          "base_uri": "https://localhost:8080/"
        },
        "id": "L-5d6ogY6Z8K",
        "outputId": "8e72c4b6-f8d6-40c9-9cf1-be47233cda57"
      },
      "execution_count": 36,
      "outputs": [
        {
          "output_type": "stream",
          "name": "stdout",
          "text": [
            "[ 0  0  0  0  0  0  0  0  0  0  0  1  1  1  1  1  1  1  1  1  1  1  1  1\n",
            "  1  1  1  1  1  1  1  1  1  1  1  1  1  1  1  2  2  2  2  2  2  2  2  2\n",
            "  2  2  2  2  2  2  2  2  2  2  2  2  2  2  2  2  2  2  2  2  2  2  2  2\n",
            "  3  3  3  3  3  3  3  3  3  3  3  3  3  3  3  3  3  3  3  3  3  3  3  3\n",
            "  3  3  3  3  4  4  4  4  4  4  4  4  4  4  4  4  4  4  4  4  4  4  4  4\n",
            "  4  4  4  5  5  5  5  5  5  5  5  5  5  5  5  5  5  5  5  5  5  5  5  5\n",
            "  5  6  6  6  6  6  6  6  6  6  6  6  6  6  6  6  6  6  6  6  6  6  6  7\n",
            "  7  7  7  7  7  7  7  7  7  7  7  7  7  7  7  7  7  7  7  7  7  7  8  8\n",
            "  8  8  8  8  8  8  8  8  8  8  8  8  8  8  8  8  8  8  8  9  9  9  9  9\n",
            "  9  9  9  9  9  9  9  9  9  9  9  9  9  9  9 10 10 10 10 10 10 10 10 10\n",
            " 10 10 10 10 10 10 10 10 10 10 10 11 11 11 11 11 11 11 11 11 11 11 11 11\n",
            " 11 11 11 11 11 11 11 13 13 13 13 13 13 13 13 13 13 13 13 13 13 13 13 13\n",
            " 13 17 17 17 17 17 17 17 17 17 17 17 17 17 17 17 17 17 17 17 17 17 19 19\n",
            " 19 19 19 19 19 19 19 19 19 19 19 19 19 19 19 19]\n"
          ]
        }
      ]
    },
    {
      "cell_type": "markdown",
      "source": [
        "Creating & Formatting our dataset, separating for training and testing"
      ],
      "metadata": {
        "id": "0WdAa5WrWHB-"
      }
    },
    {
      "cell_type": "code",
      "source": [
        "#MAYBE LATER: separate images into training and testing data -> recommended 80% training, 20% testing/validation -> have 330 images total\n",
        "#going to set aside one image per class for demo/testing use outside of this code, such as for inputting to the web app to receive predictions there.\n",
        "#that leaves 248 images for training, 62 for testing within the code, and 20 for testing & demo otherwise\n"
      ],
      "metadata": {
        "id": "n2-fzWe_zQQr"
      },
      "execution_count": 37,
      "outputs": []
    },
    {
      "cell_type": "code",
      "source": [
        "#reshape arrays to input_shape size"
      ],
      "metadata": {
        "id": "_2Q0cAL2N7Wk"
      },
      "execution_count": 38,
      "outputs": []
    },
    {
      "cell_type": "code",
      "source": [
        "#build linear model \n",
        "model = keras.Sequential()\n",
        "\n",
        "#CNN input takes tensors in shape (image_height, image_width, color_channels)\n",
        "model.add(keras.Input(shape=(256,256,3)))\n",
        "\n",
        "#add convolution and pooling layers to model -> this part is for the feature extraction of images\n",
        "model.add(layers.Conv2D(128, (3,3), activation='relu'))\n",
        "model.add(layers.MaxPooling2D(pool_size=2))\n",
        "model.add(layers.Conv2D(64, (3,3), activation='relu'))\n",
        "model.add(layers.MaxPooling2D(pool_size=2))\n",
        "model.add(layers.Conv2D(32, (3,3), activation='relu'))\n",
        "model.add(layers.MaxPooling2D(pool_size=2))\n",
        "\n",
        "#Flatten the last layer of pooling, so we can do a couple of fully connected layers\n",
        "model.add(layers.Flatten())\n",
        "model.add(layers.Dense(128, activation = 'relu'))\n",
        "#Dense(x, activation = 'softmax') -> x = nodes on the last layer, and this is the number of classes you have for your dataset. We have 20!\n",
        "model.add(layers.Dense(20, activation = 'softmax'))\n"
      ],
      "metadata": {
        "id": "vwUObv5GqsDV"
      },
      "execution_count": 39,
      "outputs": []
    },
    {
      "cell_type": "code",
      "source": [
        "#compile model with settings\n",
        "###### decide on optimizer\n",
        "###### losses: could I use softmax crossentropy with logits? \n",
        "model.compile(optimizer = 'adam', loss = 'sparse_categorical_crossentropy', metrics = ['accuracy'])"
      ],
      "metadata": {
        "id": "xoEXiYtEqySa"
      },
      "execution_count": 40,
      "outputs": []
    },
    {
      "cell_type": "code",
      "source": [
        "#View all the layers of our model\n",
        "model.summary()"
      ],
      "metadata": {
        "id": "qoZVAQ0yYROe",
        "colab": {
          "base_uri": "https://localhost:8080/"
        },
        "outputId": "ea0bddf9-8748-4358-e573-fb71d6086660"
      },
      "execution_count": 41,
      "outputs": [
        {
          "output_type": "stream",
          "name": "stdout",
          "text": [
            "Model: \"sequential_1\"\n",
            "_________________________________________________________________\n",
            " Layer (type)                Output Shape              Param #   \n",
            "=================================================================\n",
            " conv2d_3 (Conv2D)           (None, 254, 254, 128)     3584      \n",
            "                                                                 \n",
            " max_pooling2d_3 (MaxPooling  (None, 127, 127, 128)    0         \n",
            " 2D)                                                             \n",
            "                                                                 \n",
            " conv2d_4 (Conv2D)           (None, 125, 125, 64)      73792     \n",
            "                                                                 \n",
            " max_pooling2d_4 (MaxPooling  (None, 62, 62, 64)       0         \n",
            " 2D)                                                             \n",
            "                                                                 \n",
            " conv2d_5 (Conv2D)           (None, 60, 60, 32)        18464     \n",
            "                                                                 \n",
            " max_pooling2d_5 (MaxPooling  (None, 30, 30, 32)       0         \n",
            " 2D)                                                             \n",
            "                                                                 \n",
            " flatten_1 (Flatten)         (None, 28800)             0         \n",
            "                                                                 \n",
            " dense_2 (Dense)             (None, 128)               3686528   \n",
            "                                                                 \n",
            " dense_3 (Dense)             (None, 20)                2580      \n",
            "                                                                 \n",
            "=================================================================\n",
            "Total params: 3,784,948\n",
            "Trainable params: 3,784,948\n",
            "Non-trainable params: 0\n",
            "_________________________________________________________________\n"
          ]
        }
      ]
    },
    {
      "cell_type": "code",
      "source": [
        "#convert training arrays into numpy arrays\n",
        "imgarray = np.asarray(imgarray, dtype=np.float32)\n",
        "label_array = np.asarray(label_array)"
      ],
      "metadata": {
        "id": "4nVAAg8sPDHy"
      },
      "execution_count": 42,
      "outputs": []
    },
    {
      "cell_type": "code",
      "source": [
        "#Train the model -> gonna start with 10 epochs, but may increase this\n",
        "history = model.fit(imgarray, label_array, epochs = 10, validation_split = 0.2)"
      ],
      "metadata": {
        "id": "JpeBvCeEv7di",
        "colab": {
          "base_uri": "https://localhost:8080/"
        },
        "outputId": "6af1e19a-89c8-4161-bbb5-6431f4664fcf"
      },
      "execution_count": 43,
      "outputs": [
        {
          "output_type": "stream",
          "name": "stdout",
          "text": [
            "Epoch 1/10\n",
            "9/9 [==============================] - 79s 9s/step - loss: 5.9348 - accuracy: 0.1756 - val_loss: 3.9646 - val_accuracy: 0.0000e+00\n",
            "Epoch 2/10\n",
            "9/9 [==============================] - 77s 9s/step - loss: 1.4706 - accuracy: 0.6336 - val_loss: 8.8736 - val_accuracy: 0.0000e+00\n",
            "Epoch 3/10\n",
            "9/9 [==============================] - 77s 9s/step - loss: 0.3155 - accuracy: 0.9160 - val_loss: 13.6513 - val_accuracy: 0.0000e+00\n",
            "Epoch 4/10\n",
            "9/9 [==============================] - 77s 9s/step - loss: 0.0540 - accuracy: 0.9962 - val_loss: 19.2944 - val_accuracy: 0.0000e+00\n",
            "Epoch 5/10\n",
            "9/9 [==============================] - 77s 9s/step - loss: 0.0048 - accuracy: 1.0000 - val_loss: 22.3122 - val_accuracy: 0.0000e+00\n",
            "Epoch 6/10\n",
            "9/9 [==============================] - 77s 9s/step - loss: 0.0037 - accuracy: 0.9962 - val_loss: 23.5377 - val_accuracy: 0.0152\n",
            "Epoch 7/10\n",
            "9/9 [==============================] - 77s 9s/step - loss: 4.1706e-04 - accuracy: 1.0000 - val_loss: 24.3020 - val_accuracy: 0.0152\n",
            "Epoch 8/10\n",
            "9/9 [==============================] - 77s 8s/step - loss: 2.6335e-04 - accuracy: 1.0000 - val_loss: 24.7476 - val_accuracy: 0.0152\n",
            "Epoch 9/10\n",
            "9/9 [==============================] - 77s 9s/step - loss: 1.9777e-04 - accuracy: 1.0000 - val_loss: 25.0080 - val_accuracy: 0.0152\n",
            "Epoch 10/10\n",
            "9/9 [==============================] - 77s 9s/step - loss: 1.6224e-04 - accuracy: 1.0000 - val_loss: 25.1881 - val_accuracy: 0.0152\n"
          ]
        }
      ]
    },
    {
      "cell_type": "code",
      "source": [
        "plt.plot(history.history['accuracy'], label = 'accuracy', color = 'darkorange')\n",
        "plt.plot(history.history['val_accuracy'], label = 'val_accuracy', color = 'forestgreen')\n",
        "plt.xlabel('Epoch')\n",
        "plt.ylabel('Accuracy')\n",
        "plt.ylim([0.5, 1])\n",
        "plt.legend(loc = 'lower right')"
      ],
      "metadata": {
        "id": "AAy5ptVZwMS2",
        "colab": {
          "base_uri": "https://localhost:8080/",
          "height": 300
        },
        "outputId": "a69244c4-10c8-4a2b-a1f7-7cc50f212639"
      },
      "execution_count": 45,
      "outputs": [
        {
          "output_type": "execute_result",
          "data": {
            "text/plain": [
              "<matplotlib.legend.Legend at 0x7faecf1a0a00>"
            ]
          },
          "metadata": {},
          "execution_count": 45
        },
        {
          "output_type": "display_data",
          "data": {
            "text/plain": [
              "<Figure size 432x288 with 1 Axes>"
            ],
            "image/png": "[encoded data removed]"
          },
          "metadata": {
            "needs_background": "light"
          }
        }
      ]
    },
    {
      "cell_type": "code",
      "source": [
        "from keras.models import load_model\n",
        "model.save('404Soybeans.h5')"
      ],
      "metadata": {
        "id": "8c2XzEZcHYv5"
      },
      "execution_count": 46,
      "outputs": []
    }
  ]
}